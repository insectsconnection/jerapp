{
  "cells": [
    {
      "cell_type": "markdown",
      "metadata": {
        "id": "view-in-github",
        "colab_type": "text"
      },
      "source": [
        "<a href=\"https://colab.research.google.com/github/insectsconnection/jerapp/blob/main/imgClassification.ipynb\" target=\"_parent\"><img src=\"https://colab.research.google.com/assets/colab-badge.svg\" alt=\"Open In Colab\"/></a>"
      ]
    },
    {
      "cell_type": "code",
      "execution_count": null,
      "metadata": {
        "id": "mxhJ4RoWszxw"
      },
      "outputs": [],
      "source": [
        "import numpy as np\n",
        "import pandas as pd\n",
        "import matplotlib.pyplot as plt\n",
        "import tensorflow as tf\n",
        "\n",
        "from tensorflow import keras\n",
        "from tensorflow.keras import layers\n",
        "\n"
      ]
    },
    {
      "cell_type": "code",
      "execution_count": null,
      "metadata": {
        "id": "pxqpW3kOszx2"
      },
      "outputs": [],
      "source": [
        "data_train_path='foldername/train'\n",
        "data_test_path='folder/test'\n",
        "data_val_path='folder/validation'"
      ]
    },
    {
      "cell_type": "code",
      "execution_count": null,
      "metadata": {
        "id": "IC8ashGVszx3"
      },
      "outputs": [],
      "source": [
        "img_width=100\n",
        "img_height=100"
      ]
    },
    {
      "cell_type": "code",
      "execution_count": null,
      "metadata": {
        "id": "jWbeCE2Vszx4"
      },
      "outputs": [],
      "source": [
        "data_train=tf.keras.utils.image_dataset-from_directory(\n",
        "    data_train_path,\n",
        "    shuffle=True,\n",
        "    image_size=(img_width,img_height),\n",
        "    batch_size=32,\n",
        "    validation_split=False\n",
        ")"
      ]
    },
    {
      "cell_type": "code",
      "execution_count": null,
      "metadata": {
        "id": "pJTFMSFjszx4"
      },
      "outputs": [],
      "source": [
        "data_cat=data_train.class_names\n",
        "\n",
        "data_val=tf.keras.utils.image_dataset_from_directory(\n",
        "    data_val_path,\n",
        "    image_size=(img_height,img_width),\n",
        "    batch_size=32,\n",
        "    shuffle=True,\n",
        "    validation_split=False\n",
        ")"
      ]
    },
    {
      "cell_type": "code",
      "execution_count": null,
      "metadata": {
        "id": "qInRPdIDszx5"
      },
      "outputs": [],
      "source": [
        "data_test=tf.keras.utils.image_dataset_from_directory(\n",
        "    data_val_path,\n",
        "    image_size=(img_height,img_width),\n",
        "    batch_size=32,\n",
        "    shuffle=True,\n",
        "    validation_split=False\n",
        ")"
      ]
    },
    {
      "cell_type": "code",
      "execution_count": null,
      "metadata": {
        "id": "AzeJPA11szx5"
      },
      "outputs": [],
      "source": [
        "plt.figure(figsize=(10,10))\n",
        "for image, labels in data_train.take(1):\n",
        "    for i in range(9):\n",
        "        plt.subplot(3,3,i + 1)\n",
        "        plt.imshow(image(i),numpy(.asType('units')))\n",
        "        plt.title(data_cat (labels[i]))\n",
        "        plt.axis('off')\n",
        ""
      ]
    },
    {
      "cell_type": "code",
      "execution_count": null,
      "metadata": {
        "id": "DshJr8T2szx6"
      },
      "outputs": [],
      "source": [
        "from tensorflow.keras.models import Sequential\n",
        "model=Sequential([\n",
        "    layers.Rescaling(1/255),\n",
        "    layers.Conv2D(16,3,padding='same', activation='relu'),\n",
        "    layers.MaxPooling2D(),\n",
        "    layers.Conv2D(332,3,padding='same',activation='relu'),\n",
        "    layers.MaxPooling2D(),\n",
        "    layers.Conv2D(64,3,padding='same',activation='relu'),\n",
        "    layers.MaxPooling2D(),\n",
        "    layers.Flatten(),\n",
        "    layersDropOut(0.2),\n",
        "    layers.Dense(128),\n",
        "    layers.Dense(units-len(date_cat)),\n",
        "\n",
        "\n",
        "])"
      ]
    },
    {
      "cell_type": "code",
      "execution_count": null,
      "metadata": {
        "id": "1jwK2Vl6szx7"
      },
      "outputs": [],
      "source": [
        "model.compile(optimzer=\"adam\",loss=tf.keras.Losses.SparseCategoricalCrossEntropy(from_units=True),metrics=['accuracy'])\n",
        "epoch=25\n",
        "history=model.fit(data_train,valaidation_dataset,data_val,epochs=epochs_size)\n",
        "epoch_range=range(epochs_size)"
      ]
    },
    {
      "cell_type": "code",
      "execution_count": null,
      "metadata": {
        "id": "NK1r4MI_szx7"
      },
      "outputs": [],
      "source": [
        "plt.figure(figsize=(8,8))\n",
        "plt.subplt(1,2,1)\n",
        "plt.plot(epochs_range,history.history['accuracy'],label='Training Accuracy')\n",
        "plt.plot(epochs_range,history.history['val_accuracy'],label='Validation Accuracy')\n",
        "plt.title('Accuracy')"
      ]
    },
    {
      "cell_type": "code",
      "execution_count": null,
      "metadata": {
        "id": "JcN0phkEszx8"
      },
      "outputs": [],
      "source": [
        "plt.subbplot(1,2,2)\n",
        "plt.plot(epochs_range,history.history['Validation Cost'],label='Loss')\n",
        "plt.title('Loss')\n",
        "\n"
      ]
    },
    {
      "cell_type": "markdown",
      "metadata": {
        "id": "7d1LFIm2szx8"
      },
      "source": [
        "Test Image"
      ]
    },
    {
      "cell_type": "code",
      "execution_count": null,
      "metadata": {
        "id": "qXzjiP4aszx-"
      },
      "outputs": [],
      "source": [
        "image=\"./apple.jpg\"\n",
        "image=tf.keras.utils.load_img(images,target_size(img_height,img_width))\n",
        "\n",
        "img_arr=tf.keras.utils.array_to_img(image)\n",
        "img_but=tf.expand_dims(img_arr,0)\n",
        "predict=model.predict(img_but)\n",
        "score=tf.nn"
      ]
    }
  ],
  "metadata": {
    "language_info": {
      "name": "python"
    },
    "orig_nbformat": 4,
    "colab": {
      "provenance": [],
      "include_colab_link": true
    }
  },
  "nbformat": 4,
  "nbformat_minor": 0
}